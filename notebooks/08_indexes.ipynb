{
 "cells": [
  {
   "cell_type": "markdown",
   "source": [
    "https://zenn.dev/umi_mori/books/prompt-engineer/viewer/langchain_indexes"
   ],
   "metadata": {
    "collapsed": false
   }
  },
  {
   "cell_type": "code",
   "execution_count": 7,
   "outputs": [],
   "source": [
    "from dotenv import load_dotenv\n",
    "import os\n",
    "\n",
    "load_dotenv()\n",
    "os.environ[\"LANGCHAIN_TRACING\"] = \"true\"\n",
    "# os.environ[\"LANGCHAIN_HANDLER\"] = \"langchain\"\n",
    "os.environ[\"LANGCHAIN_ENDPOINT\"] = \"http://localhost:8000\""
   ],
   "metadata": {
    "collapsed": false,
    "ExecuteTime": {
     "end_time": "2023-05-28T04:32:18.296105Z",
     "start_time": "2023-05-28T04:32:18.284762Z"
    }
   }
  },
  {
   "cell_type": "code",
   "execution_count": 2,
   "outputs": [
    {
     "name": "stdout",
     "output_type": "stream",
     "text": [
      "page_content='第１章\\nはじめに\\n2' metadata={'source': '/var/folders/c8/780kh95934j497xrzwxp90cw0000gq/T/tmpteyw0dok', 'page': 1}\n",
      "44: ◼フリーランスのリモートワーク実態 (1/3)\n",
      "45(n=850)Q.リモートワークの実施およびその影響に関して、それぞれ当てはまる選択肢を一つ選んでください。\n",
      "（単一回答）\n",
      "※リモートワークとは、情報通信技術 (ICT)を活用した、場所や時間にとらわれない柔軟な働き方のことを指します。\n",
      "コロナ以前（ 2020年2月以前）と比べてリモートワークでのフリーランス業務が増えた\n",
      "62.0%の回答者 が「リモートワーク業務が増えた」ことに同意。一方で、 11.3% が同意できないと回答し、「どちらとも\n",
      "言えない」との回答も 26.7% 存在した。全体としてリモートワークの拡大傾向は見られるものの、就労形態に影響を及ぼ\n",
      "さないフリーランスも一定数いることが見てとれる。\n",
      "※小数点以下第二位四捨五入Copyright 2023 Freelance Association Japan.40.5%\n",
      "21.5%26.7%4.1%7.2%\n",
      "同意する割合は 62.0%\n",
      "46: ◼フリーランスのリモートワーク実態 (3/3)\n",
      "47Q.リモートワークの実施およびその影響に関して、それぞれ当てはまる選択肢を一つ選んでください。\n",
      "（各項目単一回答）\n",
      "※リモートワークとは、情報通信技術 (ICT)を活用した、場所や時間にとらわれない柔軟な働き方のことを指します。\n",
      "3.3% 11.8% 41.3% 23.6% 20.0%リモートワーク普及により発注企業との関係構築が難しくなった\n",
      "4.6% 10.1% 37.3% 26.1% 21.9%リモートワーク普及により仕事の負荷・ストレスが高まった\n",
      "8.5% 25.3% 42.0% 15.3% 8.9%リモートワーク普及により仕事上の新しいつながりを築く機会が減った\n",
      "リモートワーク普及の懸念点として、「発注企業との関係構築の困難さ」や 「仕事の負荷の増大」に同意する割合はそれぞ\n",
      "れ2割に満たなかった 。一方で 、「仕事上の新しいつながりを築く機会が減った」ことに同意した割合は 33.8% であった。\n",
      "既存クライアントとの関係や仕事の負荷に対するリモートワークの悪影響は限定的だが、 新たなつながりの創出においては\n",
      "より懸念が大きいことが見てとれる\n",
      "※小数点以下第二位四捨五入\n",
      "(n=850)\n",
      "Copyright 2023 Freelance Association Japan.\n"
     ]
    }
   ],
   "source": [
    "from langchain.document_loaders import PyPDFLoader\n",
    "from langchain.vectorstores import Chroma\n",
    "from langchain.embeddings.openai import OpenAIEmbeddings\n",
    "\n",
    "loader = PyPDFLoader(\"https://blog.freelance-jp.org/wp-content/uploads/2023/03/FreelanceSurvey2023.pdf\")\n",
    "pages = loader.load_and_split()\n",
    "print(pages[0])\n",
    "\n",
    "chroma_index = Chroma.from_documents(pages, OpenAIEmbeddings())\n",
    "docs = chroma_index.similarity_search(\"「フリーランスのリモートワークの実態」について教えて。\", k=2)\n",
    "for doc in docs:\n",
    "    print(str(doc.metadata[\"page\"]) + \":\", doc.page_content)"
   ],
   "metadata": {
    "collapsed": false,
    "ExecuteTime": {
     "end_time": "2023-05-28T02:56:56.847246Z",
     "start_time": "2023-05-28T02:56:45.513688Z"
    }
   }
  },
  {
   "cell_type": "code",
   "execution_count": 3,
   "outputs": [
    {
     "name": "stdout",
     "output_type": "stream",
     "text": [
      "368\n",
      "<class 'str'>\n",
      "['GPT-4は、OpenAIが開発したAI技術であるGPTシリーズの第4世代目のモデルです。\\n\\n自然言語処理(NLP)という技術を使い、文章の生成や理解を行うことができます。', 'これにより、人間と同じような文章を作成することが可能です。\\n\\nGPT-4は、トランスフォーマーアーキテクチャに基づいており、より強力な性能を発揮します。', 'GPT-4は、インターネット上の大量のテキストデータを学習し、豊富な知識を持っています。\\n\\nしかし、2021年9月までの情報しか持っていません。', 'このモデルは、質問応答や文章生成、文章要約など、様々なタスクで使用できます。\\n\\nただし、GPT-4は完璧ではありません。\\n\\n時々、誤った情報や不適切な内容を生成することがあります。', '使用者は、その限界を理解し、\\n\\n適切な方法で利用することが重要です。']\n",
      "5\n",
      "<class 'langchain.schema.Document'>\n",
      "[Document(page_content='GPT-4は、OpenAIが開発したAI技術であるGPTシリーズの第4世代目のモデルです。\\n\\n自然言語処理(NLP)という技術を使い、文章の生成や理解を行うことができます。', metadata={}), Document(page_content='これにより、人間と同じような文章を作成することが可能です。\\n\\nGPT-4は、トランスフォーマーアーキテクチャに基づいており、より強力な性能を発揮します。', metadata={}), Document(page_content='GPT-4は、インターネット上の大量のテキストデータを学習し、豊富な知識を持っています。\\n\\nしかし、2021年9月までの情報しか持っていません。', metadata={}), Document(page_content='このモデルは、質問応答や文章生成、文章要約など、様々なタスクで使用できます。\\n\\nただし、GPT-4は完璧ではありません。\\n\\n時々、誤った情報や不適切な内容を生成することがあります。', metadata={}), Document(page_content='使用者は、その限界を理解し、\\n\\n適切な方法で利用することが重要です。', metadata={})]\n",
      "5\n"
     ]
    }
   ],
   "source": [
    "from langchain.text_splitter import CharacterTextSplitter\n",
    "long_text = \"\"\"\n",
    "GPT-4は、OpenAIが開発したAI技術であるGPTシリーズの第4世代目のモデルです。\n",
    "\n",
    "自然言語処理(NLP)という技術を使い、文章の生成や理解を行うことができます。\n",
    "\n",
    "これにより、人間と同じような文章を作成することが可能です。\n",
    "\n",
    "GPT-4は、トランスフォーマーアーキテクチャに基づいており、より強力な性能を発揮します。\n",
    "\n",
    "GPT-4は、インターネット上の大量のテキストデータを学習し、豊富な知識を持っています。\n",
    "\n",
    "しかし、2021年9月までの情報しか持っていません。\n",
    "\n",
    "このモデルは、質問応答や文章生成、文章要約など、様々なタスクで使用できます。\n",
    "\n",
    "ただし、GPT-4は完璧ではありません。\n",
    "\n",
    "時々、誤った情報や不適切な内容を生成することがあります。\n",
    "\n",
    "使用者は、その限界を理解し、\n",
    "\n",
    "適切な方法で利用することが重要です。\n",
    "\"\"\"\n",
    "print(len(long_text))\n",
    "\n",
    "text_splitter = CharacterTextSplitter(\n",
    "    separator = \"\\n\\n\",\n",
    "    chunk_size = 100,\n",
    "    chunk_overlap = 0,\n",
    "    length_function = len,\n",
    ")\n",
    "text_list = text_splitter.split_text(long_text)\n",
    "print(type(text_list[0]))\n",
    "print(text_list)\n",
    "print(len(text_list))\n",
    "\n",
    "document_list = text_splitter.create_documents([long_text])\n",
    "print(type(document_list[0]))\n",
    "print(document_list)\n",
    "print(len(document_list))"
   ],
   "metadata": {
    "collapsed": false,
    "ExecuteTime": {
     "end_time": "2023-05-28T02:57:21.230984Z",
     "start_time": "2023-05-28T02:57:21.227568Z"
    }
   }
  },
  {
   "cell_type": "code",
   "execution_count": 6,
   "outputs": [
    {
     "name": "stdout",
     "output_type": "stream",
     "text": [
      "86\n"
     ]
    }
   ],
   "source": [
    "print(len(text_list[0]))"
   ],
   "metadata": {
    "collapsed": false,
    "ExecuteTime": {
     "end_time": "2023-05-28T02:01:15.041301Z",
     "start_time": "2023-05-28T02:01:15.038702Z"
    }
   }
  },
  {
   "cell_type": "code",
   "execution_count": 13,
   "outputs": [
    {
     "name": "stdout",
     "output_type": "stream",
     "text": [
      "368\n",
      "\n",
      "\n",
      "Q1. インターネット上の何のデータを使って、学習しているの？\n",
      " GPT-4は、インターネット上の大量のテキストデータを学習しています。\n",
      "{'question': 'Q1. インターネット上の何のデータを使って、学習しているの？', 'answer': ' GPT-4 is learning from a large amount of text data on the internet.\\n', 'sources': './long_text.txt'}\n",
      "\n",
      "\n",
      "Q2. GPT4は第何世代のモデル？\n",
      " GPT-4は、OpenAIが開発したAI技術であるGPTシリーズの第4世代目のモデルです。\n",
      "{'question': 'Q2. GPT4は第何世代のモデル？', 'answer': ' GPT-4 is the fourth generation model of the GPT series developed by OpenAI.\\n', 'sources': './long_text.txt'}\n"
     ]
    }
   ],
   "source": [
    "from langchain.embeddings.openai import OpenAIEmbeddings\n",
    "from langchain.text_splitter import CharacterTextSplitter\n",
    "from langchain.vectorstores import Chroma\n",
    "from langchain.indexes import VectorstoreIndexCreator\n",
    "from langchain.document_loaders import TextLoader\n",
    "\n",
    "long_text = \"\"\"\n",
    "GPT-4は、OpenAIが開発したAI技術であるGPTシリーズの第4世代目のモデルです。\n",
    "\n",
    "自然言語処理(NLP)という技術を使い、文章の生成や理解を行うことができます。\n",
    "\n",
    "これにより、人間と同じような文章を作成することが可能です。\n",
    "\n",
    "GPT-4は、トランスフォーマーアーキテクチャに基づいており、より強力な性能を発揮します。\n",
    "\n",
    "GPT-4は、インターネット上の大量のテキストデータを学習し、豊富な知識を持っています。\n",
    "\n",
    "しかし、2021年9月までの情報しか持っていません。\n",
    "\n",
    "このモデルは、質問応答や文章生成、文章要約など、様々なタスクで使用できます。\n",
    "\n",
    "ただし、GPT-4は完璧ではありません。\n",
    "\n",
    "時々、誤った情報や不適切な内容を生成することがあります。\n",
    "\n",
    "使用者は、その限界を理解し、\n",
    "\n",
    "適切な方法で利用することが重要です。\n",
    "\"\"\"\n",
    "print(len(long_text))\n",
    "with open(\"./long_text.txt\", \"w\") as f:\n",
    "    f.write(long_text)\n",
    "    f.close()\n",
    "\n",
    "loader = TextLoader('./long_text.txt')\n",
    "\n",
    "text_splitter = CharacterTextSplitter(\n",
    "    separator = \"\\n\\n\",\n",
    "    chunk_size = 100,\n",
    "    chunk_overlap = 0,\n",
    "    length_function = len,\n",
    ")\n",
    "\n",
    "index = VectorstoreIndexCreator(\n",
    "    vectorstore_cls=Chroma, # Default\n",
    "    embedding=OpenAIEmbeddings(), # Default\n",
    "    text_splitter=text_splitter,\n",
    ").from_loaders([loader])\n",
    "\n",
    "query = \"Q1. インターネット上の何のデータを使って、学習しているの？\"\n",
    "print(f\"\\n\\n{query}\")\n",
    "answer = index.query(query)\n",
    "print(answer)\n",
    "\n",
    "answer_with_sources = index.query_with_sources(query)\n",
    "print(answer_with_sources)\n",
    "\n",
    "query = \"Q2. GPT4は第何世代のモデル？\"\n",
    "print(f\"\\n\\n{query}\")\n",
    "answer = index.query(query)\n",
    "print(answer)\n",
    "\n",
    "answer_with_sources = index.query_with_sources(query)\n",
    "print(answer_with_sources)"
   ],
   "metadata": {
    "collapsed": false,
    "ExecuteTime": {
     "end_time": "2023-05-28T04:35:23.244073Z",
     "start_time": "2023-05-28T04:35:04.938199Z"
    }
   }
  },
  {
   "cell_type": "code",
   "execution_count": 11,
   "outputs": [
    {
     "name": "stdout",
     "output_type": "stream",
     "text": [
      "\n",
      "\n",
      "\u001B[1m> Entering new AgentExecutor chain...\u001B[0m\n",
      "\u001B[32;1m\u001B[1;3m I need to calculate the power of a number\n",
      "Action: Calculator\n",
      "Action Input: 2^.123243\u001B[0m\n",
      "Observation: \u001B[36;1m\u001B[1;3mAnswer: 1.0891804557407723\u001B[0m\n",
      "Thought:\u001B[32;1m\u001B[1;3m I now know the final answer\n",
      "Final Answer: 1.0891804557407723\u001B[0m\n",
      "\n",
      "\u001B[1m> Finished chain.\u001B[0m\n"
     ]
    },
    {
     "data": {
      "text/plain": "'1.0891804557407723'"
     },
     "execution_count": 11,
     "metadata": {},
     "output_type": "execute_result"
    }
   ],
   "source": [
    "from dotenv import load_dotenv\n",
    "import os\n",
    "\n",
    "load_dotenv()\n",
    "os.environ[\"LANGCHAIN_TRACING\"] = \"true\"\n",
    "# os.environ[\"LANGCHAIN_HANDLER\"] = \"langchain\"\n",
    "os.environ[\"LANGCHAIN_ENDPOINT\"] = \"http://localhost:8000\"\n",
    "\n",
    "from langchain.agents import initialize_agent, load_tools\n",
    "from langchain.llms import OpenAI\n",
    "\n",
    "# エージェントの準備\n",
    "llm=OpenAI(temperature=0)\n",
    "agent = initialize_agent(\n",
    "    tools= load_tools([\"llm-math\"], llm=llm),\n",
    "    llm=llm,\n",
    "    agent=\"zero-shot-react-description\",\n",
    "    verbose=True\n",
    ")\n",
    "\n",
    "# エージェントの実行\n",
    "agent.run(\"2の.123243乗は?\")"
   ],
   "metadata": {
    "collapsed": false,
    "ExecuteTime": {
     "end_time": "2023-05-28T04:34:36.873227Z",
     "start_time": "2023-05-28T04:34:27.130788Z"
    }
   }
  },
  {
   "cell_type": "code",
   "execution_count": 15,
   "outputs": [
    {
     "name": "stdout",
     "output_type": "stream",
     "text": [
      "368\n",
      "[Document(page_content='GPT-4は、OpenAIが開発したAI技術であるGPTシリーズの第4世代目のモデルです。\\n\\n自然言語処理(NLP)という技術を使い、文章の生成や理解を行うことができます。', metadata={}), Document(page_content='これにより、人間と同じような文章を作成することが可能です。\\n\\nGPT-4は、トランスフォーマーアーキテクチャに基づいており、より強力な性能を発揮します。', metadata={}), Document(page_content='GPT-4は、インターネット上の大量のテキストデータを学習し、豊富な知識を持っています。\\n\\nしかし、2021年9月までの情報しか持っていません。', metadata={}), Document(page_content='このモデルは、質問応答や文章生成、文章要約など、様々なタスクで使用できます。\\n\\nただし、GPT-4は完璧ではありません。\\n\\n時々、誤った情報や不適切な内容を生成することがあります。', metadata={}), Document(page_content='使用者は、その限界を理解し、\\n\\n適切な方法で利用することが重要です。', metadata={})]\n",
      "5\n",
      "\n",
      "\n",
      "Q1. インターネット上の何のデータを使って、学習しているの？\n",
      "GPT-4は、インターネット上の大量のテキストデータを学習し、豊富な知識を持っています。\n",
      "\n",
      "しかし、2021年9月までの情報しか持っていません。\n"
     ]
    }
   ],
   "source": [
    "from langchain.embeddings.openai import OpenAIEmbeddings\n",
    "from langchain.text_splitter import CharacterTextSplitter\n",
    "from langchain.vectorstores import Chroma\n",
    "\n",
    "long_text = \"\"\"\n",
    "GPT-4は、OpenAIが開発したAI技術であるGPTシリーズの第4世代目のモデルです。\n",
    "\n",
    "自然言語処理(NLP)という技術を使い、文章の生成や理解を行うことができます。\n",
    "\n",
    "これにより、人間と同じような文章を作成することが可能です。\n",
    "\n",
    "GPT-4は、トランスフォーマーアーキテクチャに基づいており、より強力な性能を発揮します。\n",
    "\n",
    "GPT-4は、インターネット上の大量のテキストデータを学習し、豊富な知識を持っています。\n",
    "\n",
    "しかし、2021年9月までの情報しか持っていません。\n",
    "\n",
    "このモデルは、質問応答や文章生成、文章要約など、様々なタスクで使用できます。\n",
    "\n",
    "ただし、GPT-4は完璧ではありません。\n",
    "\n",
    "時々、誤った情報や不適切な内容を生成することがあります。\n",
    "\n",
    "使用者は、その限界を理解し、\n",
    "\n",
    "適切な方法で利用することが重要です。\n",
    "\"\"\"\n",
    "print(len(long_text))\n",
    "\n",
    "text_splitter = CharacterTextSplitter(\n",
    "    separator = \"\\n\\n\",\n",
    "    chunk_size = 100,\n",
    "    chunk_overlap = 0,\n",
    "    length_function = len,\n",
    ")\n",
    "\n",
    "document_list = text_splitter.create_documents([long_text])\n",
    "print(document_list)\n",
    "print(len(document_list))\n",
    "\n",
    "db = Chroma.from_documents(document_list, OpenAIEmbeddings())\n",
    "retriever = db.as_retriever()\n",
    "\n",
    "query = \"Q1. インターネット上の何のデータを使って、学習しているの？\"\n",
    "print(f\"\\n\\n{query}\")\n",
    "docs = retriever.get_relevant_documents(query)\n",
    "print(docs[0].page_content)"
   ],
   "metadata": {
    "collapsed": false,
    "ExecuteTime": {
     "end_time": "2023-05-28T04:36:41.976686Z",
     "start_time": "2023-05-28T04:36:40.487810Z"
    }
   }
  },
  {
   "cell_type": "code",
   "execution_count": null,
   "outputs": [],
   "source": [],
   "metadata": {
    "collapsed": false
   }
  }
 ],
 "metadata": {
  "kernelspec": {
   "display_name": "Python 3",
   "language": "python",
   "name": "python3"
  },
  "language_info": {
   "codemirror_mode": {
    "name": "ipython",
    "version": 2
   },
   "file_extension": ".py",
   "mimetype": "text/x-python",
   "name": "python",
   "nbconvert_exporter": "python",
   "pygments_lexer": "ipython2",
   "version": "2.7.6"
  }
 },
 "nbformat": 4,
 "nbformat_minor": 0
}

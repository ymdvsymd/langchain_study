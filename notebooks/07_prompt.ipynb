{
 "cells": [
  {
   "cell_type": "markdown",
   "source": [
    "https://zenn.dev/umi_mori/books/prompt-engineer/viewer/langchain_prompt"
   ],
   "metadata": {
    "collapsed": false
   }
  },
  {
   "cell_type": "code",
   "execution_count": 1,
   "outputs": [
    {
     "data": {
      "text/plain": "True"
     },
     "execution_count": 1,
     "metadata": {},
     "output_type": "execute_result"
    }
   ],
   "source": [
    "from dotenv import load_dotenv\n",
    "\n",
    "load_dotenv()"
   ],
   "metadata": {
    "collapsed": false,
    "ExecuteTime": {
     "end_time": "2023-05-27T02:55:43.700671Z",
     "start_time": "2023-05-27T02:55:43.670259Z"
    }
   }
  },
  {
   "cell_type": "code",
   "execution_count": 2,
   "outputs": [
    {
     "name": "stdout",
     "output_type": "stream",
     "text": [
      "\n",
      "ITエンジニアについて30文字で教えて。\n",
      "\n"
     ]
    }
   ],
   "source": [
    "from langchain import PromptTemplate\n",
    "from langchain.llms import OpenAI\n",
    "\n",
    "template = \"\"\"\n",
    "{subject}について30文字で教えて。\n",
    "\"\"\"\n",
    "\n",
    "prompt = PromptTemplate(\n",
    "    template=template,\n",
    "    input_variables=[\"subject\"]\n",
    ")\n",
    "prompt_text = prompt.format(subject=\"ITエンジニア\")\n",
    "print(prompt_text)"
   ],
   "metadata": {
    "collapsed": false,
    "ExecuteTime": {
     "end_time": "2023-05-27T02:56:58.476597Z",
     "start_time": "2023-05-27T02:56:53.894980Z"
    }
   }
  },
  {
   "cell_type": "code",
   "execution_count": 3,
   "outputs": [
    {
     "name": "stdout",
     "output_type": "stream",
     "text": [
      "\n",
      "ITエンジニアは、ソフトウェアおよびハードウェアを構築し、保守する専門家です。\n"
     ]
    }
   ],
   "source": [
    "llm = OpenAI(model_name=\"text-davinci-003\")\n",
    "print(llm(prompt_text))"
   ],
   "metadata": {
    "collapsed": false,
    "ExecuteTime": {
     "end_time": "2023-05-27T02:57:17.665738Z",
     "start_time": "2023-05-27T02:57:13.981077Z"
    }
   }
  },
  {
   "cell_type": "code",
   "execution_count": 4,
   "outputs": [
    {
     "name": "stdout",
     "output_type": "stream",
     "text": [
      "フルーツの色を漢字で教えて。\n",
      "\n",
      "\n",
      "フルーツ: りんご\n",
      "色: 赤\n",
      "\n",
      "\n",
      "\n",
      "\n",
      "フルーツ: キウイ\n",
      "色: 緑\n",
      "\n",
      "\n",
      "\n",
      "\n",
      "フルーツ: ぶどう\n",
      "色: 紫\n",
      "\n",
      "\n",
      "\n",
      "フルーツ: オレンジ\n",
      "色:\n",
      " 橙\n"
     ]
    }
   ],
   "source": [
    "from langchain import PromptTemplate\n",
    "from langchain import FewShotPromptTemplate\n",
    "from langchain.llms import OpenAI\n",
    "\n",
    "examples = [\n",
    "    {\"fruit\": \"りんご\", \"color\": \"赤\"},\n",
    "    {\"fruit\": \"キウイ\", \"color\": \"緑\"},\n",
    "    {\"fruit\": \"ぶどう\", \"color\": \"紫\"},\n",
    "]\n",
    "\n",
    "example_formatter_template = \"\"\"\n",
    "フルーツ: {fruit}\n",
    "色: {color}\\n\n",
    "\"\"\"\n",
    "example_prompt = PromptTemplate(\n",
    "    template=example_formatter_template,\n",
    "    input_variables=[\"fruit\", \"color\"]\n",
    ")\n",
    "\n",
    "few_shot_prompt = FewShotPromptTemplate(\n",
    "    examples=examples,\n",
    "    example_prompt=example_prompt,\n",
    "    prefix=\"フルーツの色を漢字で教えて。\",\n",
    "    suffix=\"フルーツ: {input}\\n色:\",\n",
    "    input_variables=[\"input\"],\n",
    "    example_separator=\"\\n\\n\",\n",
    "\n",
    ")\n",
    "\n",
    "prompt_text = few_shot_prompt.format(input=\"オレンジ\")\n",
    "print(prompt_text)\n",
    "\n",
    "llm = OpenAI(model_name=\"text-davinci-003\")\n",
    "print(llm(prompt_text))"
   ],
   "metadata": {
    "collapsed": false,
    "ExecuteTime": {
     "end_time": "2023-05-27T03:00:14.155842Z",
     "start_time": "2023-05-27T03:00:12.748507Z"
    }
   }
  },
  {
   "cell_type": "code",
   "execution_count": 5,
   "outputs": [
    {
     "name": "stdout",
     "output_type": "stream",
     "text": [
      "[SystemMessage(content='あなたは、質問者からの質問を日本語で回答するAIです。', additional_kwargs={}), HumanMessage(content='質問者：ITエンジニアについて30文字で教えて。', additional_kwargs={}, example=False)]\n"
     ]
    },
    {
     "data": {
      "text/plain": "AIMessage(content='技術的な知識と問題解決能力を持つコンピューターシステムの開発・運用に従事する職業。', additional_kwargs={}, example=False)"
     },
     "execution_count": 5,
     "metadata": {},
     "output_type": "execute_result"
    }
   ],
   "source": [
    "from langchain.prompts import (\n",
    "    ChatPromptTemplate,\n",
    "    SystemMessagePromptTemplate,\n",
    "    HumanMessagePromptTemplate,\n",
    ")\n",
    "from langchain.chat_models import ChatOpenAI\n",
    "\n",
    "system_template=\"あなたは、質問者からの質問を{language}で回答するAIです。\"\n",
    "human_template=\"質問者：{question}\"\n",
    "system_message_prompt = SystemMessagePromptTemplate.from_template(system_template)\n",
    "human_message_prompt = HumanMessagePromptTemplate.from_template(human_template)\n",
    "\n",
    "chat_prompt = ChatPromptTemplate.from_messages([system_message_prompt, human_message_prompt])\n",
    "prompt_message_list = chat_prompt.format_prompt(language=\"日本語\", question=\"ITエンジニアについて30文字で教えて。\").to_messages()\n",
    "\n",
    "print(prompt_message_list)\n",
    "\n",
    "chat = ChatOpenAI(model_name=\"gpt-3.5-turbo\")\n",
    "chat(prompt_message_list)"
   ],
   "metadata": {
    "collapsed": false,
    "ExecuteTime": {
     "end_time": "2023-05-27T03:04:57.895460Z",
     "start_time": "2023-05-27T03:04:54.151478Z"
    }
   }
  },
  {
   "cell_type": "code",
   "execution_count": 6,
   "outputs": [
    {
     "name": "stderr",
     "output_type": "stream",
     "text": [
      "No `_type` key found, defaulting to `prompt`.\n"
     ]
    },
    {
     "name": "stdout",
     "output_type": "stream",
     "text": [
      "The following is a friendly conversation between a human and an AI. The AI is talkative and provides lots of specific details from its context. If the AI does not know the answer to a question, it truthfully says it does not know.\n",
      "\n",
      "Current conversation:\n",
      "こんにちは、ますみです。\n",
      "Human: ITエンジニアについて30文字で教えて。\n",
      "AI:\n"
     ]
    }
   ],
   "source": [
    "from langchain.prompts import load_prompt\n",
    "\n",
    "prompt = load_prompt(\"lc://prompts/conversation/prompt.json\")\n",
    "prompt_text = prompt.format(history=\"こんにちは、ますみです。\", input=\"ITエンジニアについて30文字で教えて。\")\n",
    "print(prompt_text)"
   ],
   "metadata": {
    "collapsed": false,
    "ExecuteTime": {
     "end_time": "2023-05-27T03:05:48.715436Z",
     "start_time": "2023-05-27T03:05:48.355149Z"
    }
   }
  },
  {
   "cell_type": "code",
   "execution_count": 9,
   "outputs": [],
   "source": [
    "from typing import List, Dict\n",
    "from langchain.prompts.example_selector.base import BaseExampleSelector\n",
    "import numpy as np\n",
    "\n",
    "class CustomExampleSelector(BaseExampleSelector):\n",
    "\n",
    "    def __init__(self, examples: List[Dict[str, str]]):\n",
    "        self.examples = examples\n",
    "\n",
    "    def add_example(self, example: Dict[str, str]) -> None:\n",
    "        \"\"\"新しい教師データを格納するめの関数\"\"\"\n",
    "        self.examples.append(example)\n",
    "\n",
    "    def select_examples(self, input_variables: Dict[str, str]) -> List[dict]:\n",
    "        \"\"\"教師データを選択するための関数\"\"\"\n",
    "        return np.random.choice(self.examples, size=2, replace=False)"
   ],
   "metadata": {
    "collapsed": false,
    "ExecuteTime": {
     "end_time": "2023-05-27T03:13:34.165967Z",
     "start_time": "2023-05-27T03:13:34.160259Z"
    }
   }
  },
  {
   "cell_type": "code",
   "execution_count": 10,
   "outputs": [
    {
     "name": "stdout",
     "output_type": "stream",
     "text": [
      "[{'fruit': 'りんご', 'color': '赤'}, {'fruit': 'キウイ', 'color': '緑'}, {'fruit': 'ぶどう', 'color': '紫'}]\n"
     ]
    }
   ],
   "source": [
    "examples = [\n",
    "    {\"fruit\": \"りんご\", \"color\": \"赤\"},\n",
    "    {\"fruit\": \"キウイ\", \"color\": \"緑\"},\n",
    "    {\"fruit\": \"ぶどう\", \"color\": \"紫\"},\n",
    "]\n",
    "\n",
    "# 教師データの登録\n",
    "example_selector = CustomExampleSelector(examples)\n",
    "\n",
    "# 教師データの出力\n",
    "print(example_selector.examples)"
   ],
   "metadata": {
    "collapsed": false,
    "ExecuteTime": {
     "end_time": "2023-05-27T03:15:10.830970Z",
     "start_time": "2023-05-27T03:15:10.823392Z"
    }
   }
  },
  {
   "cell_type": "code",
   "execution_count": 11,
   "outputs": [
    {
     "name": "stdout",
     "output_type": "stream",
     "text": [
      "[{'fruit': 'りんご', 'color': '赤'}, {'fruit': 'キウイ', 'color': '緑'}, {'fruit': 'ぶどう', 'color': '紫'}, {'fruit': 'オレンジ', 'color': '橙'}]\n"
     ]
    }
   ],
   "source": [
    "# 教師データの追加\n",
    "example_selector.add_example({\"fruit\": \"オレンジ\", \"color\": \"橙\"})\n",
    "print(example_selector.examples)"
   ],
   "metadata": {
    "collapsed": false,
    "ExecuteTime": {
     "end_time": "2023-05-27T03:15:29.095139Z",
     "start_time": "2023-05-27T03:15:29.085958Z"
    }
   }
  },
  {
   "cell_type": "code",
   "execution_count": 15,
   "outputs": [
    {
     "name": "stdout",
     "output_type": "stream",
     "text": [
      "[{'fruit': 'りんご', 'color': '赤'} {'fruit': 'ぶどう', 'color': '紫'}]\n"
     ]
    }
   ],
   "source": [
    "# 教師データの選択\n",
    "print(example_selector.select_examples({}))"
   ],
   "metadata": {
    "collapsed": false,
    "ExecuteTime": {
     "end_time": "2023-05-27T03:17:51.293570Z",
     "start_time": "2023-05-27T03:17:51.286849Z"
    }
   }
  },
  {
   "cell_type": "code",
   "execution_count": 16,
   "outputs": [
    {
     "data": {
      "text/plain": "['Java', 'C++', 'Python', 'JavaScript', 'Ruby']"
     },
     "execution_count": 16,
     "metadata": {},
     "output_type": "execute_result"
    }
   ],
   "source": [
    "from langchain.output_parsers import CommaSeparatedListOutputParser\n",
    "from langchain.prompts import PromptTemplate\n",
    "from langchain.llms import OpenAI\n",
    "\n",
    "output_parser = CommaSeparatedListOutputParser()\n",
    "format_instructions = output_parser.get_format_instructions()\n",
    "prompt = PromptTemplate(\n",
    "    template=\"List five {subject}.\\n{format_instructions}\",\n",
    "    input_variables=[\"subject\"],\n",
    "    partial_variables={\"format_instructions\": format_instructions}\n",
    ")\n",
    "\n",
    "llm = OpenAI(model_name=\"text-davinci-003\")\n",
    "_input = prompt.format(subject=\"Programming Language\")\n",
    "output = llm(_input)\n",
    "output_parser.parse(output)"
   ],
   "metadata": {
    "collapsed": false,
    "ExecuteTime": {
     "end_time": "2023-05-27T03:20:44.574589Z",
     "start_time": "2023-05-27T03:20:42.503017Z"
    }
   }
  },
  {
   "cell_type": "code",
   "execution_count": 17,
   "outputs": [
    {
     "name": "stdout",
     "output_type": "stream",
     "text": [
      "text='Tell me the skills required for frontend engineer.\\n\\nThe output should be formatted as a JSON instance that conforms to the JSON schema below.\\n\\nAs an example, for the schema {\"properties\": {\"foo\": {\"title\": \"Foo\", \"description\": \"a list of strings\", \"type\": \"array\", \"items\": {\"type\": \"string\"}}}, \"required\": [\"foo\"]}}\\nthe object {\"foo\": [\"bar\", \"baz\"]} is a well-formatted instance of the schema. The object {\"properties\": {\"foo\": [\"bar\", \"baz\"]}} is not well-formatted.\\n\\nHere is the output schema:\\n```\\n{\"properties\": {\"name\": {\"title\": \"Name\", \"description\": \"Name of the job\", \"type\": \"string\"}, \"skill_list\": {\"title\": \"Skill List\", \"description\": \"List of skills required for that job\", \"type\": \"array\", \"items\": {\"type\": \"string\"}}}, \"required\": [\"name\", \"skill_list\"]}\\n```\\n'\n",
      "\n",
      "And the output instance:\n",
      "```\n",
      "{\"name\": \"Frontend Engineer\", \"skill_list\": [\"HTML\", \"CSS\", \"JavaScript\", \"jQuery\", \"Responsive Design\", \"Cross-browser Compatibility\", \"Version Control\", \"Testing and Debugging\"]}\n",
      "```\n"
     ]
    },
    {
     "data": {
      "text/plain": "Job(name='Frontend Engineer', skill_list=['HTML', 'CSS', 'JavaScript', 'jQuery', 'Responsive Design', 'Cross-browser Compatibility', 'Version Control', 'Testing and Debugging'])"
     },
     "execution_count": 17,
     "metadata": {},
     "output_type": "execute_result"
    }
   ],
   "source": [
    "from typing import List\n",
    "from pydantic import BaseModel, Field\n",
    "\n",
    "from langchain.prompts import PromptTemplate\n",
    "from langchain.llms import OpenAI\n",
    "from langchain.output_parsers import PydanticOutputParser\n",
    "\n",
    "class Job(BaseModel):\n",
    "    name: str = Field(description=\"Name of the job\")\n",
    "    skill_list: List[str] = Field(description=\"List of skills required for that job\")\n",
    "\n",
    "parser = PydanticOutputParser(pydantic_object=Job)\n",
    "prompt = PromptTemplate(\n",
    "    template=\"{query}\\n\\n{format_instructions}\\n\",\n",
    "    input_variables=[\"query\"],\n",
    "    partial_variables={\"format_instructions\": parser.get_format_instructions()}\n",
    ")\n",
    "_input = prompt.format_prompt(query=\"Tell me the skills required for frontend engineer.\")\n",
    "print(_input)\n",
    "\n",
    "llm = OpenAI(model_name=\"text-davinci-003\")\n",
    "output = llm(_input.to_string())\n",
    "print(output)\n",
    "\n",
    "parser.parse(output)"
   ],
   "metadata": {
    "collapsed": false,
    "ExecuteTime": {
     "end_time": "2023-05-27T03:23:36.832540Z",
     "start_time": "2023-05-27T03:23:33.148108Z"
    }
   }
  },
  {
   "cell_type": "code",
   "execution_count": 20,
   "outputs": [
    {
     "data": {
      "text/plain": "Job(name='Frontend Engineer', skill_list=['HTML', 'CSS', 'JS', 'TS'])"
     },
     "execution_count": 20,
     "metadata": {},
     "output_type": "execute_result"
    }
   ],
   "source": [
    "from typing import List\n",
    "\n",
    "from pydantic import BaseModel, Field\n",
    "\n",
    "from langchain.chat_models import ChatOpenAI\n",
    "from langchain.output_parsers import (\n",
    "    PydanticOutputParser,\n",
    "    OutputFixingParser,\n",
    ")\n",
    "\n",
    "class Job(BaseModel):\n",
    "    name: str = Field(description=\"Name of the job\")\n",
    "    skill_list: List[str] = Field(description=\"List of skills required for that job\")\n",
    "\n",
    "misformatted = \"{'skills': ['HTML', 'CSS', 'JS', 'TS'], 'job': 'Frontend Engineer'}\"\n",
    "\n",
    "parser = PydanticOutputParser(pydantic_object=Job)\n",
    "\n",
    "new_parser = OutputFixingParser.from_llm(parser=parser, llm=ChatOpenAI(model_name=\"gpt-3.5-turbo\"))\n",
    "new_parser.parse(misformatted)"
   ],
   "metadata": {
    "collapsed": false,
    "ExecuteTime": {
     "end_time": "2023-05-27T03:31:15.767618Z",
     "start_time": "2023-05-27T03:31:13.161709Z"
    }
   }
  },
  {
   "cell_type": "code",
   "execution_count": null,
   "outputs": [],
   "source": [],
   "metadata": {
    "collapsed": false
   }
  }
 ],
 "metadata": {
  "kernelspec": {
   "display_name": "Python 3",
   "language": "python",
   "name": "python3"
  },
  "language_info": {
   "codemirror_mode": {
    "name": "ipython",
    "version": 2
   },
   "file_extension": ".py",
   "mimetype": "text/x-python",
   "name": "python",
   "nbconvert_exporter": "python",
   "pygments_lexer": "ipython2",
   "version": "2.7.6"
  }
 },
 "nbformat": 4,
 "nbformat_minor": 0
}

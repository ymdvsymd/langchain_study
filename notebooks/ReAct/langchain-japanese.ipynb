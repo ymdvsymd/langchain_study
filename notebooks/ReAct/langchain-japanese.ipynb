{
 "cells": [
  {
   "cell_type": "markdown",
   "source": [
    "[LANGCHAIN で日本語プロンプトを扱う (REASONING)](https://netweblog.wordpress.com/2023/04/03/langchain-japanese/)"
   ],
   "metadata": {
    "collapsed": false
   }
  },
  {
   "cell_type": "code",
   "execution_count": 1,
   "outputs": [],
   "source": [
    "from dotenv import load_dotenv\n",
    "import os\n",
    "\n",
    "load_dotenv()\n",
    "os.environ[\"LANGCHAIN_TRACING\"] = \"true\"\n",
    "os.environ[\"LANGCHAIN_ENDPOINT\"] = \"http://localhost:8000\""
   ],
   "metadata": {
    "collapsed": false,
    "ExecuteTime": {
     "end_time": "2023-06-04T02:20:57.136555Z",
     "start_time": "2023-06-04T02:20:57.046498Z"
    }
   }
  },
  {
   "cell_type": "code",
   "execution_count": 7,
   "outputs": [
    {
     "name": "stdout",
     "output_type": "stream",
     "text": [
      "\n",
      "\n",
      "\u001B[1m> Entering new AgentExecutor chain...\u001B[0m\n",
      "\u001B[32;1m\u001B[1;3m考察 : 会社 C の請求金額を取得する必要がある。\n",
      "行動 : GetInvoice[C]\u001B[0m\n",
      "結果 : \u001B[36;1m\u001B[1;3m20000\u001B[0m\n",
      "考察 : \u001B[32;1m\u001B[1;3m会社 F の請求金額を取得する必要がある。\n",
      "行動 : GetInvoice[F]\u001B[0m\n",
      "結果 : \u001B[36;1m\u001B[1;3m4100\u001B[0m\n",
      "考察 : \u001B[32;1m\u001B[1;3m会社 C, F の請求金額の合計を計算する必要がある。\n",
      "行動 : Total[20000 4100]\u001B[0m\n",
      "結果 : \u001B[38;5;200m\u001B[1;3m24100\u001B[0m\n",
      "考察 : \u001B[32;1m\u001B[1;3m会社 A の請求金額を取得する必要がある。\n",
      "行動 : GetInvoice[A]\u001B[0m\n",
      "結果 : \u001B[36;1m\u001B[1;3m2000\u001B[0m\n",
      "考察 : \u001B[32;1m\u001B[1;3m会社 E の請求金額を取得する必要がある。\n",
      "行動 : GetInvoice[E]\u001B[0m\n",
      "結果 : \u001B[36;1m\u001B[1;3m1000\u001B[0m\n",
      "考察 : \u001B[32;1m\u001B[1;3m会社 A, E の請求金額の合計を計算する必要がある。\n",
      "行動 : Total[2000 1000]\u001B[0m\n",
      "結果 : \u001B[38;5;200m\u001B[1;3m3000\u001B[0m\n",
      "考察 : \u001B[32;1m\u001B[1;3m会社 C, F の請求金額の合計と会社 A, E の請求金額の合計との間の差額を計算する必要がある。\n",
      "行動 : Diff[24100 3000]\u001B[0m\n",
      "結果 : \u001B[33;1m\u001B[1;3m21100\u001B[0m\n",
      "考察 : \u001B[32;1m\u001B[1;3m よって、答えは 21100。\n",
      "行動 : Finish[21100]\u001B[0m\n",
      "\n",
      "\u001B[1m> Finished chain.\u001B[0m\n"
     ]
    },
    {
     "data": {
      "text/plain": "'21100'"
     },
     "execution_count": 7,
     "metadata": {},
     "output_type": "execute_result"
    }
   ],
   "source": [
    "model_name=\"text-davinci-003\"\n",
    "\n",
    "import re\n",
    "from typing import Sequence, List, Tuple, Optional, Any, Union\n",
    "from langchain.agents.agent import Agent, AgentOutputParser\n",
    "from langchain.prompts.prompt import PromptTemplate\n",
    "from langchain.prompts.base import BasePromptTemplate\n",
    "from langchain.tools.base import BaseTool\n",
    "from langchain.agents import Tool, initialize_agent, AgentExecutor\n",
    "from langchain.llms import OpenAI\n",
    "from langchain.schema import AgentAction, AgentFinish, OutputParserException\n",
    "\n",
    "##########\n",
    "# define tools\n",
    "##########\n",
    "\n",
    "company_dic = {\n",
    "  \"A\": 2000,\n",
    "  \"B\": 1500,\n",
    "  \"C\": 20000,\n",
    "  \"D\": 6700,\n",
    "  \"E\": 1000,\n",
    "  \"F\": 4100,\n",
    "}\n",
    "\n",
    "def get_invoice(company_name):\n",
    "  return company_dic[company_name]\n",
    "\n",
    "def diff(value_str):\n",
    "  str_list = value_str.split(\" \")\n",
    "  assert(len(str_list) == 2)\n",
    "  int_list = [int(s) for s in str_list]\n",
    "  return str(abs(int_list[0] - int_list[1]))\n",
    "\n",
    "def total(value_str):\n",
    "  str_list = value_str.split(\" \")\n",
    "  int_list = [int(s) for s in str_list]\n",
    "  return str(sum(int_list))\n",
    "\n",
    "tools = [\n",
    "  Tool(\n",
    "    name=\"GetInvoice\",\n",
    "    func=get_invoice,\n",
    "    description=\"Get invoice amount of trading company.\",\n",
    "  ),\n",
    "  Tool(\n",
    "    name=\"Diff\",\n",
    "    func=diff,\n",
    "    description=\"Get diffrence.\",\n",
    "  ),\n",
    "  Tool(\n",
    "    name=\"Total\",\n",
    "    func=total,\n",
    "    description=\"Get total.\",\n",
    "  ),\n",
    "]\n",
    "\n",
    "##########\n",
    "# define agent\n",
    "##########\n",
    "\n",
    "EXAMPLES = [\n",
    "  \"\"\"質問 : 会社 A の請求金額と会社 B の請求金額との間の差額はいくらか?\n",
    "考察 : 会社 A の請求金額を取得する必要がある。\n",
    "行動 : GetInvoice[A]\n",
    "結果 : 2000\n",
    "考察 : 会社 B の請求金額を取得する必要がある。\n",
    "行動 : GetInvoice[B]\n",
    "結果 : 1500\n",
    "考察 : 会社 A の請求金額と会社 B の請求金額との間の差額を計算する必要がある。\n",
    "行動 : Diff[2000 1500]\n",
    "結果 : 500\n",
    "考察 : よって、答えは 500。\n",
    "行動 : Finish[500]\"\"\",\n",
    "  \"\"\"質問 : 会社 B, C, D の請求金額の合計はいくらか?\n",
    "考察 : 会社 B の請求金額を取得する必要がある。\n",
    "行動 : GetInvoice[B]\n",
    "結果 : 1500\n",
    "考察 : 会社 C の請求金額を取得する必要がある。\n",
    "行動 : GetInvoice[C]\n",
    "結果 : 20000\n",
    "考察 : 会社 D の請求金額を取得する必要がある。\n",
    "行動 : GetInvoice[D]\n",
    "結果 : 6700\n",
    "考察 : 会社 B, C, D の請求金額の合計を計算する必要がある。\n",
    "行動 : Total[1500 20000 6700]\n",
    "結果 : 28200\n",
    "考察 : よって、答えは 28200。\n",
    "行動 : Finish[28200]\"\"\",\n",
    "  \"\"\"質問 : 会社 C の請求金額と会社 A, D の請求金額の合計との間の差額はいくらか?\n",
    "考察 : 会社 C の請求金額を取得する必要がある。\n",
    "行動 : GetInvoice[C]\n",
    "結果 : 20000\n",
    "考察 : 会社 A の請求金額を取得する必要がある。\n",
    "行動 : GetInvoice[A]\n",
    "結果 : 2000\n",
    "考察 : 会社 D の請求金額を取得する必要がある。\n",
    "行動 : GetInvoice[D]\n",
    "結果 : 6700\n",
    "考察 : 会社 A, D の請求金額の合計を計算する必要がある。\n",
    "行動 : Total[2000 6700]\n",
    "結果 : 8700\n",
    "考察 : 会社 C の請求金額と会社 A, D の請求金額の合計との間の差額を計算する必要がある。\n",
    "行動 : Diff[20000 8700]\n",
    "結果 : 11300\n",
    "考察 : よって、答えは 11300。\n",
    "行動 : Finish[11300]\"\"\",\n",
    "]\n",
    "\n",
    "SUFFIX = \"\"\"\\n質問 : {input}\n",
    "{agent_scratchpad}\"\"\"\n",
    "\n",
    "TEST_PROMPT = PromptTemplate.from_examples(\n",
    "  EXAMPLES, SUFFIX, [\"input\", \"agent_scratchpad\"]\n",
    ")\n",
    "\n",
    "\n",
    "# Prompt Exampleに合わせてテキスト処理\n",
    "# Action句を解析して、SearchなどのActionに移るか、終わらせるかを判断する\n",
    "class ReActOutputParser(AgentOutputParser):\n",
    "    def parse(self, text: str) -> Union[AgentAction, AgentFinish]:\n",
    "        action_prefix = \"行動 : \"\n",
    "        if not text.strip().split(\"\\n\")[-1].startswith(action_prefix):\n",
    "            raise OutputParserException(f\"Could not parse LLM Output: {text}\")\n",
    "        action_block = text.strip().split(\"\\n\")[-1]\n",
    "\n",
    "        action_str = action_block[len(action_prefix) :]\n",
    "\n",
    "        re_matches = re.search(r\"(.*?)\\[(.*?)\\]\", action_str)\n",
    "        if re_matches is None:\n",
    "            raise OutputParserException(\n",
    "                f\"Could not parse action directive: {action_str}\"\n",
    "            )\n",
    "        action, action_input = re_matches.group(1), re_matches.group(2)\n",
    "\n",
    "        # 最後が行動: Finishであれば処理を終わらせる\n",
    "        if action == \"Finish\":\n",
    "            return AgentFinish({\"output\": action_input}, text)\n",
    "        else:\n",
    "            return AgentAction(action, action_input, text)\n",
    "\n",
    "\n",
    "class ReActTestAgent(Agent):\n",
    "\n",
    "  # Action句を解析して、SearchなどのActionに移るか、終わらせるかを判断する\n",
    "  @classmethod\n",
    "  def _get_default_output_parser(cls, **kwargs: Any) -> AgentOutputParser:\n",
    "    return ReActOutputParser()\n",
    "\n",
    "  @classmethod\n",
    "  def create_prompt(cls, tools: Sequence[BaseTool]) -> BasePromptTemplate:\n",
    "    return TEST_PROMPT\n",
    "\n",
    "  @classmethod\n",
    "  def _validate_tools(cls, tools: Sequence[BaseTool]) -> None:\n",
    "    if len(tools) != 3:\n",
    "      raise ValueError(\"エラー : ツールの数が正しくありません\")\n",
    "    tool_names = {tool.name for tool in tools}\n",
    "    if tool_names != {\"GetInvoice\", \"Diff\", \"Total\"}:\n",
    "      raise ValueError(\"エラー : ツールの名前が正しくありません\")\n",
    "\n",
    "  @property\n",
    "  def _agent_type(self) -> str:\n",
    "    return \"react-test\"\n",
    "\n",
    "  @property\n",
    "  def finish_tool_name(self) -> str:\n",
    "    return \"Finish\"\n",
    "\n",
    "  @property\n",
    "  def observation_prefix(self) -> str:\n",
    "    return f\"結果 : \"\n",
    "\n",
    "  @property\n",
    "  def _stop(self) -> List[str]:\n",
    "   return [f\"\\n結果 : \"]\n",
    "\n",
    "  @property\n",
    "  def llm_prefix(self) -> str:\n",
    "    return f\"考察 : \"\n",
    "\n",
    "\n",
    "##########\n",
    "# run agent\n",
    "##########\n",
    "\n",
    "llm = OpenAI(\n",
    "  model_name=model_name,\n",
    "  temperature=0,\n",
    ")\n",
    "agent = ReActTestAgent.from_llm_and_tools(\n",
    "  llm,\n",
    "  tools,\n",
    ")\n",
    "agent_executor = AgentExecutor.from_agent_and_tools(\n",
    "  agent=agent,\n",
    "  tools=tools,\n",
    "  verbose=True,\n",
    ")\n",
    "\n",
    "question = \"会社 C, F の請求金額の合計と会社 A, E の請求金額の合計との間の差額はいくらか?\"\n",
    "agent_executor.run(question)"
   ],
   "metadata": {
    "collapsed": false,
    "ExecuteTime": {
     "end_time": "2023-06-04T03:15:31.019824Z",
     "start_time": "2023-06-04T03:14:49.123823Z"
    }
   }
  },
  {
   "cell_type": "code",
   "execution_count": null,
   "outputs": [],
   "source": [],
   "metadata": {
    "collapsed": false
   }
  },
  {
   "cell_type": "code",
   "execution_count": null,
   "outputs": [],
   "source": [],
   "metadata": {
    "collapsed": false
   }
  },
  {
   "cell_type": "code",
   "execution_count": null,
   "outputs": [],
   "source": [],
   "metadata": {
    "collapsed": false
   }
  },
  {
   "cell_type": "code",
   "execution_count": null,
   "outputs": [],
   "source": [],
   "metadata": {
    "collapsed": false
   }
  },
  {
   "cell_type": "code",
   "execution_count": null,
   "outputs": [],
   "source": [],
   "metadata": {
    "collapsed": false
   }
  },
  {
   "cell_type": "code",
   "execution_count": null,
   "outputs": [],
   "source": [],
   "metadata": {
    "collapsed": false
   }
  },
  {
   "cell_type": "code",
   "execution_count": null,
   "outputs": [],
   "source": [],
   "metadata": {
    "collapsed": false
   }
  },
  {
   "cell_type": "code",
   "execution_count": null,
   "outputs": [],
   "source": [],
   "metadata": {
    "collapsed": false
   }
  },
  {
   "cell_type": "code",
   "execution_count": null,
   "outputs": [],
   "source": [],
   "metadata": {
    "collapsed": false
   }
  }
 ],
 "metadata": {
  "kernelspec": {
   "display_name": "Python 3",
   "language": "python",
   "name": "python3"
  },
  "language_info": {
   "codemirror_mode": {
    "name": "ipython",
    "version": 2
   },
   "file_extension": ".py",
   "mimetype": "text/x-python",
   "name": "python",
   "nbconvert_exporter": "python",
   "pygments_lexer": "ipython2",
   "version": "2.7.6"
  }
 },
 "nbformat": 4,
 "nbformat_minor": 0
}

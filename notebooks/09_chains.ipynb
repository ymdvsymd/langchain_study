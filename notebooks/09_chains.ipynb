{
 "cells": [
  {
   "cell_type": "markdown",
   "source": [
    "https://zenn.dev/umi_mori/books/prompt-engineer/viewer/langchain_chains"
   ],
   "metadata": {
    "collapsed": false
   }
  },
  {
   "cell_type": "code",
   "execution_count": 1,
   "outputs": [],
   "source": [
    "from dotenv import load_dotenv\n",
    "import os\n",
    "\n",
    "load_dotenv()\n",
    "os.environ[\"LANGCHAIN_TRACING\"] = \"true\"\n",
    "os.environ[\"LANGCHAIN_ENDPOINT\"] = \"http://localhost:8000\""
   ],
   "metadata": {
    "collapsed": false,
    "ExecuteTime": {
     "end_time": "2023-05-29T09:35:51.516276Z",
     "start_time": "2023-05-29T09:35:51.475548Z"
    }
   }
  },
  {
   "cell_type": "code",
   "execution_count": 2,
   "outputs": [
    {
     "name": "stdout",
     "output_type": "stream",
     "text": [
      "{'job': 'データサイエンティスト', 'text': '\\n\\nデータサイエンティストにとって一番オススメのプログラミング言語はPythonです。Pythonは、機械学習やデータ分析などのテクノロジーを簡単に扱えるように設計されており、多くのライブラリ、ツール、フレームワークなどを活用できます。また、Pythonは容易に学習することができ、他の言語に比べて非常に高い生産性を発揮します。'}\n"
     ]
    }
   ],
   "source": [
    "from langchain.llms import OpenAI\n",
    "from langchain.prompts import PromptTemplate\n",
    "from langchain.chains import LLMChain\n",
    "\n",
    "llm = OpenAI(model_name=\"text-davinci-003\")\n",
    "prompt = PromptTemplate(\n",
    "    input_variables=[\"job\"],\n",
    "    template=\"{job}に一番オススメのプログラミング言語は何?\"\n",
    ")\n",
    "chain = LLMChain(llm=llm, prompt=prompt)\n",
    "print(chain(\"データサイエンティスト\"))"
   ],
   "metadata": {
    "collapsed": false,
    "ExecuteTime": {
     "end_time": "2023-05-29T09:36:16.486614Z",
     "start_time": "2023-05-29T09:35:51.516926Z"
    }
   }
  },
  {
   "cell_type": "code",
   "execution_count": 3,
   "outputs": [
    {
     "name": "stdout",
     "output_type": "stream",
     "text": [
      "{'job': 'データサイエンティスト', 'text': 'データサイエンティストにとって一番オススメのプログラミング言語はPythonです。 Pythonは、データの取り扱いや解析、可視化などの分野で強力なライブラリが豊富に揃っており、また、機械学習やディープラーニングのフレームワークも豊富に揃っています。さらに、Pythonはシンプルで読みやすい構文を持ち、初心者でも扱いやすくなっています。そのため、データサイエンス分野で広く使用されているプログラミング言語の一つとなっています。'}\n"
     ]
    }
   ],
   "source": [
    "from langchain.chat_models import ChatOpenAI\n",
    "from langchain.prompts import PromptTemplate\n",
    "from langchain.prompts.chat import (\n",
    "    ChatPromptTemplate,\n",
    "    HumanMessagePromptTemplate\n",
    ")\n",
    "from langchain.chains import LLMChain\n",
    "\n",
    "human_message_prompt = HumanMessagePromptTemplate(\n",
    "    prompt=PromptTemplate(\n",
    "        input_variables=[\"job\"],\n",
    "\t\ttemplate=\"{job}に一番オススメのプログラミング言語は何?\"\n",
    "    )\n",
    ")\n",
    "\n",
    "chat_prompt_template = ChatPromptTemplate.from_messages([human_message_prompt])\n",
    "chain = LLMChain(\n",
    "    llm=ChatOpenAI(model_name=\"gpt-3.5-turbo\"),\n",
    "    prompt=chat_prompt_template\n",
    ")\n",
    "\n",
    "print(chain(\"データサイエンティスト\"))"
   ],
   "metadata": {
    "collapsed": false,
    "ExecuteTime": {
     "end_time": "2023-05-29T09:39:27.910754Z",
     "start_time": "2023-05-29T09:39:08.722622Z"
    }
   }
  },
  {
   "cell_type": "code",
   "execution_count": 4,
   "outputs": [
    {
     "name": "stdout",
     "output_type": "stream",
     "text": [
      "\n",
      "\n",
      "\u001B[1m> Entering new SimpleSequentialChain chain...\u001B[0m\n",
      "\u001B[36;1m\u001B[1;3m\n",
      "\n",
      "データサイエンティストに一番オススメのプログラミング言語はPythonです。Pythonは、簡単に使用でき、豊富なライブラリを持つため、データサイエンティストがデータ解析、機械学習、および深層学習タスクを行うのに最適な選択肢です。\u001B[0m\n",
      "\u001B[33;1m\u001B[1;3m\n",
      "\n",
      "1.Pythonの基礎を学ぶ: インストール、プログラミングの概念、型、変数などの基本概念を理解する。\n",
      "\n",
      "2.データ解析を学ぶ: Pythonのライブラリを使用して、データを抽出、整理、および視覚化する方法を学ぶ。\n",
      "\n",
      "3.機械学習/深層学習を学ぶ:Pythonのモジュールを使用して、機械学習および深層学習アルゴリズムを構築、評価、および実行する方法を学ぶ。\u001B[0m\n",
      "\n",
      "\u001B[1m> Finished chain.\u001B[0m\n",
      "{'input': 'データサイエンティスト', 'output': '\\n\\n1.Pythonの基礎を学ぶ: インストール、プログラミングの概念、型、変数などの基本概念を理解する。\\n\\n2.データ解析を学ぶ: Pythonのライブラリを使用して、データを抽出、整理、および視覚化する方法を学ぶ。\\n\\n3.機械学習/深層学習を学ぶ:Pythonのモジュールを使用して、機械学習および深層学習アルゴリズムを構築、評価、および実行する方法を学ぶ。'}\n"
     ]
    }
   ],
   "source": [
    "from langchain.llms import OpenAI\n",
    "from langchain.prompts import PromptTemplate\n",
    "from langchain.chains import LLMChain\n",
    "from langchain.chains import SimpleSequentialChain\n",
    "\n",
    "llm = OpenAI(model_name=\"text-davinci-003\")\n",
    "prompt_1 = PromptTemplate(\n",
    "\t\tinput_variables=[\"job\"],\n",
    "\t\ttemplate=\"{job}に一番オススメのプログラミング言語は何?\"\n",
    ")\n",
    "chain_1 = LLMChain(llm=llm, prompt=prompt_1)\n",
    "\n",
    "prompt_2 = PromptTemplate(\n",
    "    input_variables=[\"programming_language\"],\n",
    "    template=\"{programming_language}を学ぶためにやるべきことを3ステップで100文字で教えて。\",\n",
    ")\n",
    "chain_2 = LLMChain(llm=llm, prompt=prompt_2)\n",
    "\n",
    "overall_chain = SimpleSequentialChain(chains=[chain_1, chain_2], verbose=True)\n",
    "print(overall_chain(\"データサイエンティスト\"))"
   ],
   "metadata": {
    "collapsed": false,
    "ExecuteTime": {
     "end_time": "2023-05-29T09:42:08.755664Z",
     "start_time": "2023-05-29T09:41:23.332099Z"
    }
   }
  },
  {
   "cell_type": "code",
   "execution_count": 5,
   "outputs": [
    {
     "name": "stdout",
     "output_type": "stream",
     "text": [
      "\n",
      "\n",
      "\u001B[1m> Entering new SimpleSequentialChain chain...\u001B[0m\n",
      "\u001B[36;1m\u001B[1;3mPython\u001B[0m\n",
      "\u001B[33;1m\u001B[1;3m\n",
      "\n",
      "1. Pythonをインストールして、開発環境を構築する。\n",
      "2. 基本的な文法を学ぶ。3. 実際のプログラミングを行う。\u001B[0m\n",
      "\n",
      "\u001B[1m> Finished chain.\u001B[0m\n",
      "{'input': 'データサイエンティスト', 'output': '\\n\\n1. Pythonをインストールして、開発環境を構築する。\\n2. 基本的な文法を学ぶ。3. 実際のプログラミングを行う。'}\n"
     ]
    }
   ],
   "source": [
    "from langchain.llms import OpenAI\n",
    "from langchain.prompts import PromptTemplate\n",
    "from langchain.chains import LLMChain\n",
    "from langchain.chains import SimpleSequentialChain\n",
    "\n",
    "llm = OpenAI(model_name=\"text-davinci-003\")\n",
    "prompt_1 = PromptTemplate(\n",
    "    input_variables=[\"job\"],\n",
    "    template=\"{job}に一番オススメのプログラミング言語は?\\nプログラミング言語：\",\n",
    ")\n",
    "chain_1 = LLMChain(llm=llm, prompt=prompt_1)\n",
    "\n",
    "prompt_2 = PromptTemplate(\n",
    "    input_variables=[\"programming_language\"],\n",
    "    template=\"{programming_language}を学ぶためにやるべきことを3ステップで100文字で教えて。\",\n",
    ")\n",
    "chain_2 = LLMChain(llm=llm, prompt=prompt_2)\n",
    "\n",
    "overall_chain = SimpleSequentialChain(chains=[chain_1, chain_2], verbose=True)\n",
    "print(overall_chain(\"データサイエンティスト\"))"
   ],
   "metadata": {
    "collapsed": false,
    "ExecuteTime": {
     "end_time": "2023-05-29T09:44:57.602055Z",
     "start_time": "2023-05-29T09:44:48.734427Z"
    }
   }
  },
  {
   "cell_type": "code",
   "execution_count": 8,
   "outputs": [
    {
     "name": "stderr",
     "output_type": "stream",
     "text": [
      "Retrying langchain.llms.openai.completion_with_retry.<locals>._completion_with_retry in 4.0 seconds as it raised RateLimitError: The server had an error while processing your request. Sorry about that!.\n",
      "Retrying langchain.llms.openai.completion_with_retry.<locals>._completion_with_retry in 4.0 seconds as it raised RateLimitError: The server had an error while processing your request. Sorry about that!.\n",
      "Retrying langchain.llms.openai.completion_with_retry.<locals>._completion_with_retry in 4.0 seconds as it raised RateLimitError: The server had an error while processing your request. Sorry about that!.\n"
     ]
    },
    {
     "name": "stdout",
     "output_type": "stream",
     "text": [
      "{'adjective': 'ベテランの', 'job': 'データサイエンティスト', 'programming_language': 'Python\\nPythonは、データ分析、機械学習、Web開発など、多くの機能を備えた汎用的なプログラミング言語です。Pythonの文法が非常に簡潔であるため、初心者からベテランまで、すべてのレベルのデータサイエンティストにとって容易に学ぶことができます。また、Pythonは多くのデータ分析ツール、ライブラリ、フレームワークが用意されているため、データサイエンティストがより効率的に作業を行うことができます。', 'learning_step': '\\n\\n1. 基本的なPython文法を学ぶ - Pythonの基礎を理解するために、Python公式ドキュメントを参照し、文法を学ぶ。\\n2. データ分析ツールを使用する - データ分析を行うために、Pythonで使用できるツールを習得する。\\n3. データ分析ライブラリを使用する - データ分析に使用するPythonのライブラリを学び、データサイエンスプロジェクトを実行する。'}\n"
     ]
    }
   ],
   "source": [
    "from langchain.llms import OpenAI\n",
    "from langchain.prompts import PromptTemplate\n",
    "from langchain.chains import LLMChain\n",
    "from langchain.chains import SequentialChain\n",
    "\n",
    "llm = OpenAI(model_name=\"text-davinci-003\")\n",
    "prompt_1 = PromptTemplate(\n",
    "    input_variables=[\"adjective\", \"job\"],\n",
    "    template=\"{adjective}{job}に一番オススメのプログラミング言語は?\\nプログラミング言語：\",\n",
    ")\n",
    "chain_1 = LLMChain(llm=llm, prompt=prompt_1, output_key=\"programming_language\")\n",
    "\n",
    "prompt_2 = PromptTemplate(\n",
    "    input_variables=[\"programming_language\"],\n",
    "    template=\"{programming_language}を学ぶためにやるべきことを3ステップで100文字で教えて。\",\n",
    ")\n",
    "chain_2 = LLMChain(llm=llm, prompt=prompt_2, output_key=\"learning_step\")\n",
    "\n",
    "overall_chain = SequentialChain(\n",
    "    chains=[chain_1, chain_2],\n",
    "    input_variables=[\"adjective\", \"job\"],\n",
    "    output_variables=[\"programming_language\", \"learning_step\"],\n",
    ")\n",
    "output = overall_chain({\n",
    "    \"adjective\": \"ベテランの\",\n",
    "    \"job\": \"データサイエンティスト\",\n",
    "})\n",
    "print(output)"
   ],
   "metadata": {
    "collapsed": false,
    "ExecuteTime": {
     "end_time": "2023-05-29T10:01:58.156622Z",
     "start_time": "2023-05-29T10:00:56.869629Z"
    }
   }
  },
  {
   "cell_type": "code",
   "execution_count": 9,
   "outputs": [
    {
     "name": "stdout",
     "output_type": "stream",
     "text": [
      "\n",
      "\n",
      "\u001B[1m> Entering new SequentialChain chain...\u001B[0m\n",
      "\n",
      "\u001B[1m> Finished chain.\u001B[0m\n"
     ]
    },
    {
     "data": {
      "text/plain": "{'title': 'Tragedy at sunset on the beach',\n 'era': 'Victorian England',\n 'synopsis': '\\n\\nTragedy at Sunset on the Beach is set in Victorian England. It follows the story of two young lovers, Rebecca and John, who have been forbidden by their families to be together. Despite their families’ wishes, the couple meets secretly at the beach at sunset, dreaming of a future together.\\n\\nWhen Rebecca’s father finds out about their relationship, he demands that she break it off and marry another man. Rebecca reluctantly agrees, but John is heartbroken. In his despair, he drowns himself in the ocean at sunset. \\n\\nRebecca is grief-stricken and wracked with guilt over her decision to obey her father. She blames herself for John’s death and is determined to make amends. She decides to dedicate her life to helping those in need, and to never forget John’s love. \\n\\nTragedy at Sunset on the Beach is a story of love, loss, and redemption. It is a tragic tale of forbidden love and the power of family, and explores the consequences of the choices we make.',\n 'review': '\\n\\nTragedy at Sunset on the Beach is a beautiful and heartbreaking story of forbidden love and the power of family. Set in Victorian England, the play follows the story of two young lovers, Rebecca and John, who are forbidden by their families to be together. Despite their families’ wishes, the couple meets secretly at the beach at sunset, dreaming of a future together.\\n\\nThe play skillfully portrays the power of family and the consequences of the choices we make. It is a heartbreaking tale of tragedy and heartache, but also of hope and redemption. Rebecca’s determination to make amends for her role in John’s death is inspiring and uplifting.\\n\\nThe cast delivers strong performances that capture the emotion of the story, and the sets and costumes are evocative of the period. Tragedy at Sunset on the Beach is a poignant and moving play that is sure to leave audiences moved.'}"
     },
     "execution_count": 9,
     "metadata": {},
     "output_type": "execute_result"
    }
   ],
   "source": [
    "# This is an LLMChain to write a synopsis given a title of a play and the era it is set in.\n",
    "llm = OpenAI(temperature=.7)\n",
    "template = \"\"\"You are a playwright. Given the title of play and the era it is set in, it is your job to write a synopsis for that title.\n",
    "\n",
    "Title: {title}\n",
    "Era: {era}\n",
    "Playwright: This is a synopsis for the above play:\"\"\"\n",
    "prompt_template = PromptTemplate(input_variables=[\"title\", 'era'], template=template)\n",
    "synopsis_chain = LLMChain(llm=llm, prompt=prompt_template, output_key=\"synopsis\")\n",
    "\n",
    "\n",
    "# This is an LLMChain to write a review of a play given a synopsis.\n",
    "llm = OpenAI(temperature=.7)\n",
    "template = \"\"\"You are a play critic from the New York Times. Given the synopsis of play, it is your job to write a review for that play.\n",
    "\n",
    "Play Synopsis:\n",
    "{synopsis}\n",
    "Review from a New York Times play critic of the above play:\"\"\"\n",
    "prompt_template = PromptTemplate(input_variables=[\"synopsis\"], template=template)\n",
    "review_chain = LLMChain(llm=llm, prompt=prompt_template, output_key=\"review\")\n",
    "\n",
    "\n",
    "# This is the overall chain where we run these two chains in sequence.\n",
    "from langchain.chains import SequentialChain\n",
    "overall_chain = SequentialChain(\n",
    "    chains=[synopsis_chain, review_chain],\n",
    "    input_variables=[\"era\", \"title\"],\n",
    "    # Here we return multiple variables\n",
    "    output_variables=[\"synopsis\", \"review\"],\n",
    "    verbose=True)\n",
    "overall_chain({\"title\":\"Tragedy at sunset on the beach\", \"era\": \"Victorian England\"})"
   ],
   "metadata": {
    "collapsed": false,
    "ExecuteTime": {
     "end_time": "2023-05-29T10:07:12.255251Z",
     "start_time": "2023-05-29T10:06:23.956702Z"
    }
   }
  },
  {
   "cell_type": "code",
   "execution_count": 10,
   "outputs": [
    {
     "name": "stdout",
     "output_type": "stream",
     "text": [
      "\n",
      "\n",
      "\u001B[1m> Entering new ConcatenateChain chain...\u001B[0m\n"
     ]
    },
    {
     "name": "stderr",
     "output_type": "stream",
     "text": [
      "Retrying langchain.llms.openai.completion_with_retry.<locals>._completion_with_retry in 4.0 seconds as it raised RateLimitError: The server had an error while processing your request. Sorry about that!.\n"
     ]
    },
    {
     "name": "stdout",
     "output_type": "stream",
     "text": [
      "\n",
      "\u001B[1m> Finished chain.\u001B[0m\n",
      "Python\n",
      "1,000万円以上\n"
     ]
    }
   ],
   "source": [
    "from langchain.chains import LLMChain\n",
    "from langchain.chains.base import Chain\n",
    "\n",
    "from typing import Dict, List\n",
    "\n",
    "class ConcatenateChain(Chain):\n",
    "    chain_1: LLMChain\n",
    "    chain_2: LLMChain\n",
    "\n",
    "    @property\n",
    "    def input_keys(self) -> List[str]:\n",
    "        all_input_vars = set(self.chain_1.input_keys).union(set(self.chain_2.input_keys))\n",
    "        return list(all_input_vars)\n",
    "\n",
    "    @property\n",
    "    def output_keys(self) -> List[str]:\n",
    "        return ['concat_output']\n",
    "\n",
    "    def _call(self, inputs: Dict[str, str]) -> Dict[str, str]:\n",
    "        output_1 = self.chain_1.run(inputs)\n",
    "        output_2 = self.chain_2.run(inputs)\n",
    "        return {'concat_output': output_1 + \"\\n\" + output_2}\n",
    "\n",
    "llm = OpenAI(model_name=\"text-davinci-003\")\n",
    "prompt_1 = PromptTemplate(\n",
    "    input_variables=[\"job\"],\n",
    "    template=\"{job}に一番オススメのプログラミング言語は?\\nプログラミング言語：\",\n",
    ")\n",
    "chain_1 = LLMChain(llm=llm, prompt=prompt_1)\n",
    "\n",
    "prompt_2 = PromptTemplate(\n",
    "    input_variables=[\"job\"],\n",
    "    template=\"{job}の平均年収は？\\n平均年収：\",\n",
    ")\n",
    "chain_2 = LLMChain(llm=llm, prompt=prompt_2)\n",
    "\n",
    "concat_chain = ConcatenateChain(chain_1=chain_1, chain_2=chain_2, verbose=True)\n",
    "print(concat_chain.run(\"データサイエンティスト\"))"
   ],
   "metadata": {
    "collapsed": false,
    "ExecuteTime": {
     "end_time": "2023-05-29T10:11:25.501709Z",
     "start_time": "2023-05-29T10:11:19.242771Z"
    }
   }
  },
  {
   "cell_type": "code",
   "execution_count": null,
   "outputs": [],
   "source": [],
   "metadata": {
    "collapsed": false
   }
  }
 ],
 "metadata": {
  "kernelspec": {
   "display_name": "Python 3",
   "language": "python",
   "name": "python3"
  },
  "language_info": {
   "codemirror_mode": {
    "name": "ipython",
    "version": 2
   },
   "file_extension": ".py",
   "mimetype": "text/x-python",
   "name": "python",
   "nbconvert_exporter": "python",
   "pygments_lexer": "ipython2",
   "version": "2.7.6"
  }
 },
 "nbformat": 4,
 "nbformat_minor": 0
}

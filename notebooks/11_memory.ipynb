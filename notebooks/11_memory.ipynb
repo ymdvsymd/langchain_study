{
 "cells": [
  {
   "cell_type": "markdown",
   "source": [
    "https://zenn.dev/umi_mori/books/prompt-engineer/viewer/langchain_memory"
   ],
   "metadata": {
    "collapsed": false
   }
  },
  {
   "cell_type": "code",
   "execution_count": 1,
   "outputs": [],
   "source": [
    "from dotenv import load_dotenv\n",
    "import os\n",
    "\n",
    "load_dotenv()\n",
    "os.environ[\"LANGCHAIN_TRACING\"] = \"true\"\n",
    "os.environ[\"LANGCHAIN_ENDPOINT\"] = \"http://localhost:8000\""
   ],
   "metadata": {
    "collapsed": false,
    "ExecuteTime": {
     "end_time": "2023-06-03T02:22:13.207925Z",
     "start_time": "2023-06-03T02:22:13.199397Z"
    }
   }
  },
  {
   "cell_type": "code",
   "execution_count": 2,
   "outputs": [
    {
     "name": "stdout",
     "output_type": "stream",
     "text": [
      "[HumanMessage(content='AIとは何？', additional_kwargs={}, example=False), AIMessage(content='AIとは、人工知能のことです。', additional_kwargs={}, example=False)]\n",
      "[{'type': 'human', 'data': {'content': 'AIとは何？', 'additional_kwargs': {}, 'example': False}}, {'type': 'ai', 'data': {'content': 'AIとは、人工知能のことです。', 'additional_kwargs': {}, 'example': False}}]\n",
      "[HumanMessage(content='AIとは何？', additional_kwargs={}, example=False), AIMessage(content='AIとは、人工知能のことです。', additional_kwargs={}, example=False)]\n"
     ]
    }
   ],
   "source": [
    "from langchain.memory import ChatMessageHistory\n",
    "from langchain.schema import messages_to_dict\n",
    "from langchain.schema import messages_from_dict\n",
    "\n",
    "history = ChatMessageHistory()\n",
    "\n",
    "history.add_user_message(\"AIとは何？\")\n",
    "history.add_ai_message(\"AIとは、人工知能のことです。\")\n",
    "\n",
    "message_list = history.messages\n",
    "message_dict = messages_to_dict(message_list)\n",
    "print(message_list)\n",
    "print(message_dict)\n",
    "\n",
    "message_list_from_dict = messages_from_dict(message_dict)\n",
    "print(message_list_from_dict)"
   ],
   "metadata": {
    "collapsed": false,
    "ExecuteTime": {
     "end_time": "2023-06-03T02:22:14.464111Z",
     "start_time": "2023-06-03T02:22:13.209383Z"
    }
   }
  },
  {
   "cell_type": "code",
   "execution_count": 3,
   "outputs": [
    {
     "name": "stdout",
     "output_type": "stream",
     "text": [
      "\n",
      "\n",
      "\u001B[1m> Entering new SequentialChain chain...\u001B[0m\n",
      "\n",
      "\u001B[1m> Finished chain.\u001B[0m\n",
      "{'adjective': 'ベテランの', 'job': 'エンジニア', 'time': '2030年', 'programming_language': 'Python\\n\\nPythonは、実践的なプログラミングを可能にするために設計されているオープンソースのプログラミング言語であり、現在では多くのプログラミングを行うために最も人気のある言語の1つとなっています。Pythonは、データサイエンスやAIなどの新しいテクノロジーの分野でも広く利用されています。また、Pythonを使用することで、多くのプラットフォームでソフトウェアを開発することが可能であり、より効率的なプログラミングが可能になります。Pythonは、適切なツール', 'learning_step': '\\n\\n1. Pythonの基本コマンドを学ぶ。\\n2. ライブラリを使用して特定のタスクを実行する方法を学ぶ。\\n3. Pythonを使用して自分自身のプログラムを開発する方法を学ぶ。'}\n"
     ]
    }
   ],
   "source": [
    "from langchain.llms import OpenAI\n",
    "from langchain.prompts import PromptTemplate\n",
    "from langchain.chains import LLMChain\n",
    "from langchain.chains import SequentialChain\n",
    "from langchain.memory import SimpleMemory\n",
    "\n",
    "llm = OpenAI(model_name=\"text-davinci-003\")\n",
    "prompt_1 = PromptTemplate(\n",
    "    input_variables=[\"adjective\", \"job\", \"time\"],\n",
    "    template=\"{time}において、{adjective}{job}に一番オススメのプログラミング言語は?\\nプログラミング言語：\",\n",
    ")\n",
    "chain_1 = LLMChain(llm=llm, prompt=prompt_1, output_key=\"programming_language\")\n",
    "\n",
    "prompt_2 = PromptTemplate(\n",
    "    input_variables=[\"programming_language\", \"time\"],\n",
    "    template=\"現在は{time}だとします。{programming_language}を学ぶためにやるべきことを3ステップで100文字で教えて。\",\n",
    ")\n",
    "chain_2 = LLMChain(llm=llm, prompt=prompt_2, output_key=\"learning_step\")\n",
    "\n",
    "overall_chain = SequentialChain(\n",
    "    chains=[chain_1, chain_2],\n",
    "    input_variables=[\"adjective\", \"job\"],\n",
    "    output_variables=[\"programming_language\", \"learning_step\"],\n",
    "    verbose=True,\n",
    "    memory=SimpleMemory(memories={\"time\": \"2030年\"}),\n",
    ")\n",
    "output = overall_chain({\n",
    "    \"adjective\": \"ベテランの\",\n",
    "    \"job\": \"エンジニア\",\n",
    "})\n",
    "print(output)"
   ],
   "metadata": {
    "collapsed": false,
    "ExecuteTime": {
     "end_time": "2023-06-03T02:22:43.695946Z",
     "start_time": "2023-06-03T02:22:14.466028Z"
    }
   }
  },
  {
   "cell_type": "code",
   "execution_count": 8,
   "outputs": [
    {
     "ename": "ValidationError",
     "evalue": "1 validation error for HumanMessage\ncontent\n  str type expected (type=type_error.str)",
     "output_type": "error",
     "traceback": [
      "\u001B[0;31m---------------------------------------------------------------------------\u001B[0m",
      "\u001B[0;31mValidationError\u001B[0m                           Traceback (most recent call last)",
      "Cell \u001B[0;32mIn[8], line 6\u001B[0m\n\u001B[1;32m      2\u001B[0m \u001B[38;5;28;01mfrom\u001B[39;00m \u001B[38;5;21;01mlangchain\u001B[39;00m\u001B[38;5;21;01m.\u001B[39;00m\u001B[38;5;21;01mmemory\u001B[39;00m \u001B[38;5;28;01mimport\u001B[39;00m ConversationBufferMemory\n\u001B[1;32m      4\u001B[0m memory \u001B[38;5;241m=\u001B[39m ConversationBufferMemory()\n\u001B[0;32m----> 6\u001B[0m \u001B[43mmemory\u001B[49m\u001B[38;5;241;43m.\u001B[39;49m\u001B[43msave_context\u001B[49m\u001B[43m(\u001B[49m\n\u001B[1;32m      7\u001B[0m \u001B[43m    \u001B[49m\u001B[43m{\u001B[49m\u001B[38;5;124;43m\"\u001B[39;49m\u001B[38;5;124;43minput\u001B[39;49m\u001B[38;5;124;43m\"\u001B[39;49m\u001B[43m:\u001B[49m\u001B[43m \u001B[49m\u001B[43m[\u001B[49m\u001B[38;5;124;43m\"\u001B[39;49m\u001B[38;5;124;43mAIとは何？\u001B[39;49m\u001B[38;5;124;43m\"\u001B[39;49m\u001B[43m,\u001B[49m\u001B[43m \u001B[49m\u001B[38;5;124;43m\"\u001B[39;49m\u001B[38;5;124;43mほげほげ\u001B[39;49m\u001B[38;5;124;43m\"\u001B[39;49m\u001B[43m]\u001B[49m\u001B[43m}\u001B[49m\u001B[43m,\u001B[49m\n\u001B[1;32m      8\u001B[0m \u001B[43m    \u001B[49m\u001B[43m{\u001B[49m\u001B[38;5;124;43m\"\u001B[39;49m\u001B[38;5;124;43moutput\u001B[39;49m\u001B[38;5;124;43m\"\u001B[39;49m\u001B[43m:\u001B[49m\u001B[43m \u001B[49m\u001B[43m[\u001B[49m\u001B[38;5;124;43m\"\u001B[39;49m\u001B[38;5;124;43mAIとは、人工知能のことです。\u001B[39;49m\u001B[38;5;124;43m\"\u001B[39;49m\u001B[43m,\u001B[49m\u001B[43m \u001B[49m\u001B[38;5;124;43m\"\u001B[39;49m\u001B[38;5;124;43mふがふが\u001B[39;49m\u001B[38;5;124;43m\"\u001B[39;49m\u001B[43m]\u001B[49m\u001B[43m}\u001B[49m\u001B[43m,\u001B[49m\n\u001B[1;32m      9\u001B[0m \u001B[43m)\u001B[49m\n\u001B[1;32m     10\u001B[0m \u001B[38;5;28mprint\u001B[39m(memory\u001B[38;5;241m.\u001B[39mload_memory_variables({}))\n",
      "File \u001B[0;32m~/workspace/langchain_study/.venv/lib/python3.11/site-packages/langchain/memory/chat_memory.py:35\u001B[0m, in \u001B[0;36mBaseChatMemory.save_context\u001B[0;34m(self, inputs, outputs)\u001B[0m\n\u001B[1;32m     33\u001B[0m \u001B[38;5;250m\u001B[39m\u001B[38;5;124;03m\"\"\"Save context from this conversation to buffer.\"\"\"\u001B[39;00m\n\u001B[1;32m     34\u001B[0m input_str, output_str \u001B[38;5;241m=\u001B[39m \u001B[38;5;28mself\u001B[39m\u001B[38;5;241m.\u001B[39m_get_input_output(inputs, outputs)\n\u001B[0;32m---> 35\u001B[0m \u001B[38;5;28;43mself\u001B[39;49m\u001B[38;5;241;43m.\u001B[39;49m\u001B[43mchat_memory\u001B[49m\u001B[38;5;241;43m.\u001B[39;49m\u001B[43madd_user_message\u001B[49m\u001B[43m(\u001B[49m\u001B[43minput_str\u001B[49m\u001B[43m)\u001B[49m\n\u001B[1;32m     36\u001B[0m \u001B[38;5;28mself\u001B[39m\u001B[38;5;241m.\u001B[39mchat_memory\u001B[38;5;241m.\u001B[39madd_ai_message(output_str)\n",
      "File \u001B[0;32m~/workspace/langchain_study/.venv/lib/python3.11/site-packages/langchain/memory/chat_message_histories/in_memory.py:17\u001B[0m, in \u001B[0;36mChatMessageHistory.add_user_message\u001B[0;34m(self, message)\u001B[0m\n\u001B[1;32m     16\u001B[0m \u001B[38;5;28;01mdef\u001B[39;00m \u001B[38;5;21madd_user_message\u001B[39m(\u001B[38;5;28mself\u001B[39m, message: \u001B[38;5;28mstr\u001B[39m) \u001B[38;5;241m-\u001B[39m\u001B[38;5;241m>\u001B[39m \u001B[38;5;28;01mNone\u001B[39;00m:\n\u001B[0;32m---> 17\u001B[0m     \u001B[38;5;28mself\u001B[39m\u001B[38;5;241m.\u001B[39mmessages\u001B[38;5;241m.\u001B[39mappend(\u001B[43mHumanMessage\u001B[49m\u001B[43m(\u001B[49m\u001B[43mcontent\u001B[49m\u001B[38;5;241;43m=\u001B[39;49m\u001B[43mmessage\u001B[49m\u001B[43m)\u001B[49m)\n",
      "File \u001B[0;32m~/workspace/langchain_study/.venv/lib/python3.11/site-packages/pydantic/main.py:341\u001B[0m, in \u001B[0;36mpydantic.main.BaseModel.__init__\u001B[0;34m()\u001B[0m\n",
      "\u001B[0;31mValidationError\u001B[0m: 1 validation error for HumanMessage\ncontent\n  str type expected (type=type_error.str)"
     ]
    }
   ],
   "source": [
    "from langchain.llms import OpenAI\n",
    "from langchain.memory import ConversationBufferMemory\n",
    "\n",
    "memory = ConversationBufferMemory()\n",
    "\n",
    "memory.save_context(\n",
    "    {\"input\": \"AIとは何？\"},\n",
    "    {\"output\": \"AIとは、人工知能のことです。\"},\n",
    ")\n",
    "print(memory.load_memory_variables({}))"
   ],
   "metadata": {
    "collapsed": false,
    "ExecuteTime": {
     "end_time": "2023-06-03T02:35:45.055919Z",
     "start_time": "2023-06-03T02:35:45.026086Z"
    }
   }
  },
  {
   "cell_type": "code",
   "execution_count": 5,
   "outputs": [
    {
     "name": "stdout",
     "output_type": "stream",
     "text": [
      "{'history': [HumanMessage(content='AIとは何？', additional_kwargs={}, example=False), AIMessage(content='AIとは、人工知能のことです。', additional_kwargs={}, example=False)]}\n"
     ]
    }
   ],
   "source": [
    "from langchain.llms import OpenAI\n",
    "from langchain.memory import ConversationBufferMemory\n",
    "\n",
    "memory = ConversationBufferMemory(return_messages=True)\n",
    "\n",
    "memory.save_context(\n",
    "    {\"input\": \"AIとは何？\"},\n",
    "    {\"output\": \"AIとは、人工知能のことです。\"},\n",
    ")\n",
    "print(memory.load_memory_variables({}))"
   ],
   "metadata": {
    "collapsed": false,
    "ExecuteTime": {
     "end_time": "2023-06-03T02:30:16.256846Z",
     "start_time": "2023-06-03T02:30:16.253113Z"
    }
   }
  },
  {
   "cell_type": "code",
   "execution_count": 9,
   "outputs": [
    {
     "name": "stdout",
     "output_type": "stream",
     "text": [
      "\n",
      "\n",
      "\u001B[1m> Entering new ConversationChain chain...\u001B[0m\n",
      "Prompt after formatting:\n",
      "\u001B[32;1m\u001B[1;3mThe following is a friendly conversation between a human and an AI. The AI is talkative and provides lots of specific details from its context. If the AI does not know the answer to a question, it truthfully says it does not know.\n",
      "\n",
      "Current conversation:\n",
      "\n",
      "Human: AIとは何？\n",
      "AI:\u001B[0m\n",
      "\n",
      "\u001B[1m> Finished chain.\u001B[0m\n"
     ]
    },
    {
     "data": {
      "text/plain": "{'input': 'AIとは何？',\n 'history': '',\n 'response': ' AIとは人工知能の略です。人工知能とは、コンピューターや機械に人間のような思考や行動をさせる技術のことです。コンピューターや機械が、データや知識を元に複雑なタスクを自動的に実行することができるようになります。'}"
     },
     "execution_count": 9,
     "metadata": {},
     "output_type": "execute_result"
    }
   ],
   "source": [
    "from langchain.llms import OpenAI\n",
    "from langchain.chains import ConversationChain\n",
    "\n",
    "llm = OpenAI(model_name=\"text-davinci-003\")\n",
    "conversation = ConversationChain(\n",
    "    llm=llm,\n",
    "    verbose=True,\n",
    "    memory=ConversationBufferMemory()\n",
    ")\n",
    "\n",
    "conversation(\"AIとは何？\")"
   ],
   "metadata": {
    "collapsed": false,
    "ExecuteTime": {
     "end_time": "2023-06-03T02:37:05.582148Z",
     "start_time": "2023-06-03T02:36:52.299168Z"
    }
   }
  },
  {
   "cell_type": "code",
   "execution_count": 10,
   "outputs": [
    {
     "name": "stdout",
     "output_type": "stream",
     "text": [
      "\n",
      "\n",
      "\u001B[1m> Entering new ConversationChain chain...\u001B[0m\n",
      "Prompt after formatting:\n",
      "\u001B[32;1m\u001B[1;3mThe following is a friendly conversation between a human and an AI. The AI is talkative and provides lots of specific details from its context. If the AI does not know the answer to a question, it truthfully says it does not know.\n",
      "\n",
      "Current conversation:\n",
      "Human: AIとは何？\n",
      "AI:  AIとは人工知能の略です。人工知能とは、コンピューターや機械に人間のような思考や行動をさせる技術のことです。コンピューターや機械が、データや知識を元に複雑なタスクを自動的に実行することができるようになります。\n",
      "Human: より詳しく教えて。\n",
      "AI:\u001B[0m\n",
      "\n",
      "\u001B[1m> Finished chain.\u001B[0m\n"
     ]
    },
    {
     "data": {
      "text/plain": "{'input': 'より詳しく教えて。',\n 'history': 'Human: AIとは何？\\nAI:  AIとは人工知能の略です。人工知能とは、コンピューターや機械に人間のような思考や行動をさせる技術のことです。コンピューターや機械が、データや知識を元に複雑なタスクを自動的に実行することができるようになります。',\n 'response': ' 人工知能は、機械学習、自然言語処理、画像認識などのさまざまな分野で使われています。機械学習では、コンピューターがデータを分析して、自動的に新しい発見を行うことができます。自然言語処理では、コンピューターが文章を理解して、自動的に応答を行うことができます。画像認識では、コンピューターが画像を認識して、特定の物体を見つけ出すことができます。'}"
     },
     "execution_count": 10,
     "metadata": {},
     "output_type": "execute_result"
    }
   ],
   "source": [
    "conversation(\"より詳しく教えて。\")"
   ],
   "metadata": {
    "collapsed": false,
    "ExecuteTime": {
     "end_time": "2023-06-03T02:37:49.020060Z",
     "start_time": "2023-06-03T02:37:28.750635Z"
    }
   }
  },
  {
   "cell_type": "code",
   "execution_count": 11,
   "outputs": [
    {
     "name": "stdout",
     "output_type": "stream",
     "text": [
      "\n",
      "\n",
      "\u001B[1m> Entering new LLMChain chain...\u001B[0m\n",
      "Prompt after formatting:\n",
      "\u001B[32;1m\u001B[1;3mあなたは人間と話すチャットボットです。\n",
      "\n",
      "\n",
      "Human: AIとは何？\n",
      "Chatbot:\u001B[0m\n",
      "\n",
      "\u001B[1m> Finished chain.\u001B[0m\n"
     ]
    },
    {
     "data": {
      "text/plain": "' AIとは、人工知能（Artificial Intelligence）の略です。AIは、コンピューターを使って人間のように学習し、思考する能力を獲得するプログラミング技術です。'"
     },
     "execution_count": 11,
     "metadata": {},
     "output_type": "execute_result"
    }
   ],
   "source": [
    "from langchain.memory import ConversationBufferMemory\n",
    "from langchain import OpenAI, LLMChain, PromptTemplate\n",
    "\n",
    "template = \"\"\"あなたは人間と話すチャットボットです。\n",
    "\n",
    "{chat_history}\n",
    "Human: {human_input}\n",
    "Chatbot:\"\"\"\n",
    "\n",
    "prompt = PromptTemplate(\n",
    "    input_variables=[\"chat_history\", \"human_input\"],\n",
    "    template=template\n",
    ")\n",
    "memory = ConversationBufferMemory(memory_key=\"chat_history\")\n",
    "\n",
    "llm_chain = LLMChain(\n",
    "    llm=OpenAI(model_name=\"text-davinci-003\"),\n",
    "    prompt=prompt,\n",
    "    verbose=True,\n",
    "    memory=memory,\n",
    ")\n",
    "\n",
    "llm_chain.predict(human_input=\"AIとは何？\")"
   ],
   "metadata": {
    "collapsed": false,
    "ExecuteTime": {
     "end_time": "2023-06-03T02:46:01.552107Z",
     "start_time": "2023-06-03T02:45:52.702455Z"
    }
   }
  },
  {
   "cell_type": "code",
   "execution_count": 13,
   "outputs": [
    {
     "name": "stdout",
     "output_type": "stream",
     "text": [
      "\n",
      "\n",
      "\u001B[1m> Entering new LLMChain chain...\u001B[0m\n",
      "Prompt after formatting:\n",
      "\u001B[32;1m\u001B[1;3mあなたは人間と話すチャットボットです。\n",
      "\n",
      "Human: AIとは何？\n",
      "AI:  AIとは、人工知能（Artificial Intelligence）の略です。AIは、コンピューターを使って人間のように学習し、思考する能力を獲得するプログラミング技術です。\n",
      "Human: より詳しく教えて。\n",
      "Chatbot:\u001B[0m\n",
      "\n",
      "\u001B[1m> Finished chain.\u001B[0m\n"
     ]
    },
    {
     "data": {
      "text/plain": "' AIは、コンピューターを使って機械学習を利用して、複雑なタスクを自動的に実行するためのプログラミング技術です。AIを使用することで、コンピューターが自動的に人間の行動を模倣したり、複雑なプロセスを自動的に実行したりできます。また、AIは、コンピューターが大量のデータからパターンを分析し、以前の知識を活用して予測と推論を行う能力を高めるためにも使用されます。'"
     },
     "execution_count": 13,
     "metadata": {},
     "output_type": "execute_result"
    }
   ],
   "source": [
    "llm_chain.predict(human_input=\"より詳しく教えて。\")"
   ],
   "metadata": {
    "collapsed": false,
    "ExecuteTime": {
     "end_time": "2023-06-03T02:47:24.946722Z",
     "start_time": "2023-06-03T02:46:59.635129Z"
    }
   }
  },
  {
   "cell_type": "code",
   "execution_count": null,
   "outputs": [],
   "source": [],
   "metadata": {
    "collapsed": false
   }
  }
 ],
 "metadata": {
  "kernelspec": {
   "display_name": "Python 3",
   "language": "python",
   "name": "python3"
  },
  "language_info": {
   "codemirror_mode": {
    "name": "ipython",
    "version": 2
   },
   "file_extension": ".py",
   "mimetype": "text/x-python",
   "name": "python",
   "nbconvert_exporter": "python",
   "pygments_lexer": "ipython2",
   "version": "2.7.6"
  }
 },
 "nbformat": 4,
 "nbformat_minor": 0
}
